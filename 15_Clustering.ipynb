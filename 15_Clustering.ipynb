{
 "cells": [
  {
   "cell_type": "markdown",
   "metadata": {},
   "source": [
    "# Clustering"
   ]
  },
  {
   "cell_type": "markdown",
   "metadata": {},
   "source": [
    "Most of the algorithms that we have discussed so far are what’s known as *supervised learning* algorithms,\n",
    "in that they start with a set of labeled data and use that as the basis for making\n",
    "predictions about new, unlabeled data.\n",
    "\n",
    "Clustering, however, is an example of *unsupervised\n",
    "learning*, in which we work with completely unlabeled data (or in which our\n",
    "data has labels but we ignore them)."
   ]
  },
  {
   "cell_type": "markdown",
   "metadata": {},
   "source": [
    "## The Idea"
   ]
  },
  {
   "cell_type": "markdown",
   "metadata": {},
   "source": [
    "Whenever you look at some source of data, it’s likely that the data will somehow form\n",
    "clusters.\n",
    "- A dataset showing where millionaires live probably has clusters in places like Beverly Hills and Manhattan.\n",
    "- A dataset showing how many hours people work each week probably has a cluster around 40 (and if it’s taken from a state with laws mandating special benefits for people who work at least 20 hours a week, it probably has another cluster right around 19).\n",
    "- A dataset of demographics of registered voters likely forms a variety of clusters (e.g., “soccer moms,” “bored retirees,” “unemployed millennials”) that pollsters and political consultants consider relevant.\n",
    "\n",
    "Unlike some of the problems we’ve looked at, there is generally no “correct” clustering.\n",
    "- An alternative clustering scheme might group some of the “unemployed millennials” with “grad students,” and others with “parents’ basement dwellers.”\n",
    "\n",
    "Neither scheme is necessarily more correct—instead, each is likely more optimal with respect\n",
    "to its own “how good are the clusters?” metric.\n",
    "\n",
    "Furthermore, the clusters won’t label themselves. You’ll have to do that by looking at\n",
    "the data underlying each one."
   ]
  },
  {
   "cell_type": "markdown",
   "metadata": {},
   "source": [
    "## The Model"
   ]
  },
  {
   "cell_type": "markdown",
   "metadata": {},
   "source": [
    "For us, each `input` will be a vector in *d*-dimensional space, which, as usual, we will\n",
    "represent as a list of numbers. Our goal will be to identify clusters of similar inputs\n",
    "and (sometimes) to find a representative value for each cluster.\n",
    "\n",
    "For example, imagine that we have a\n",
    "picture containing thousands of `(red, green, blue)` (RGB) colors and that we need to\n",
    "screen-print a 10-color version of it. Clustering can help us choose 10 colors that will\n",
    "minimize the total “color error.”\n",
    "\n",
    "One of the simplest clustering methods is *k*-means, in which the number of clusters *k*\n",
    "is chosen in advance, after which the goal is to partition the inputs into sets $S_1, \\dots, S_k$\n",
    "in a way that minimizes the total sum of squared distances from each point to the\n",
    "mean of its assigned cluster.\n",
    "\n",
    "There are a lot of ways to assign *n* points to *k* clusters, which means that finding an\n",
    "optimal clustering is a very hard problem. We’ll settle for an iterative algorithm that\n",
    "usually finds a good clustering:\n",
    "1. Start with a set of *k*-means, which are points in *d*-dimensional space.\n",
    "2. Assign each point to the mean to which it is closest.\n",
    "3. If no point’s assignment has changed, stop and keep the clusters.\n",
    "4. If some point’s assignment has changed (moving from one cluster to another), recompute the means and return to step 2.\n",
    "\n",
    "To start with, we’ll create a helper function that measures how many coordinates two\n",
    "vectors differ in. We’ll use this to track our training progress:"
   ]
  },
  {
   "cell_type": "code",
   "execution_count": 1,
   "metadata": {
    "scrolled": false
   },
   "outputs": [],
   "source": [
    "from typing import List\n",
    "Vector = List[float]\n",
    "\n",
    "def num_differences(v1: Vector, v2: Vector) -> int:\n",
    "    assert len(v1) == len(v2)\n",
    "    return len([x1 for x1, x2 in zip(v1, v2) if x1 != x2])"
   ]
  },
  {
   "cell_type": "code",
   "execution_count": 2,
   "metadata": {
    "scrolled": false
   },
   "outputs": [
    {
     "name": "stdout",
     "output_type": "stream",
     "text": [
      "2\n",
      "0\n"
     ]
    }
   ],
   "source": [
    "print(num_differences([1, 2, 3], [2, 1, 3]))\n",
    "print(num_differences([1, 2], [1, 2]))"
   ]
  },
  {
   "cell_type": "markdown",
   "metadata": {},
   "source": [
    "We also need a function that, given some vectors and their assignments to clusters,\n",
    "computes the means of the clusters.\n",
    "\n",
    "It may be the case that some cluster has no points assigned to it. We can’t take the mean of an empty collection, so in that case we’ll just\n",
    "randomly pick one of the points to serve as the “mean” of that cluster:"
   ]
  },
  {
   "cell_type": "code",
   "execution_count": 3,
   "metadata": {
    "scrolled": false
   },
   "outputs": [],
   "source": [
    "import numpy as np\n",
    "\n",
    "def cluster_means(k: int,\n",
    "                  inputs: List[Vector],\n",
    "                  assignments: List[int]) -> List[Vector]:\n",
    "    \n",
    "    # clusters[i] contains the inputs whose assignment is i\n",
    "    clusters = [[] for i in range(k)]\n",
    "    \n",
    "    for input, assignment in zip(inputs, assignments):\n",
    "        clusters[assignment].append(input)\n",
    "\n",
    "    # if a cluster is empty, just use a random point\n",
    "    # np.mean (..., axis = 0) will compute mean of vectors across axis 0 (rows)\n",
    "    return [np.mean(cluster, axis = 0) if cluster else random.choice(inputs)\n",
    "            for cluster in clusters]"
   ]
  },
  {
   "cell_type": "markdown",
   "metadata": {},
   "source": [
    "And now we’re ready to code up our clusterer. As usual, we’ll use `tqdm` to track our\n",
    "progress, but here we don’t know how many iterations it will take, so we then use\n",
    "`itertools.count`, which creates an infinite iterable, and we’ll `return` out of it when\n",
    "we’re done:"
   ]
  },
  {
   "cell_type": "code",
   "execution_count": 4,
   "metadata": {
    "scrolled": false
   },
   "outputs": [],
   "source": [
    "import itertools\n",
    "import random\n",
    "from tqdm.notebook import tqdm\n",
    "from scipy.spatial import distance\n",
    "\n",
    "class KMeans:\n",
    "    def __init__(self, k: int) -> None:\n",
    "        self.k = k                      # number of clusters\n",
    "        self.means = None\n",
    "\n",
    "    def classify(self, input: Vector) -> int:\n",
    "        \"\"\"return the index of the cluster closest to the input\"\"\"\n",
    "        return min(range(self.k),\n",
    "                   key=lambda i: distance.euclidean(input, self.means[i]))\n",
    "\n",
    "    def train(self, inputs: List[Vector]) -> None:\n",
    "        # Start with random assignments\n",
    "        assignments = [random.randrange(self.k) for _ in inputs]\n",
    "\n",
    "        with tqdm(itertools.count()) as t:\n",
    "            for _ in t:\n",
    "                # Compute means and find new assignments\n",
    "                self.means = cluster_means(self.k, inputs, assignments)\n",
    "                new_assignments = [self.classify(input) for input in inputs]\n",
    "\n",
    "                # Check how many assignments changed and if we're done\n",
    "                num_changed = num_differences(assignments, new_assignments)\n",
    "                if num_changed == 0:\n",
    "                    return\n",
    "\n",
    "                # Otherwise keep the new assignments, and compute new means\n",
    "                assignments = new_assignments\n",
    "                self.means = cluster_means(self.k, inputs, assignments)\n",
    "                t.set_description(f\"changed: {num_changed} / {len(inputs)}\")"
   ]
  },
  {
   "cell_type": "markdown",
   "metadata": {},
   "source": [
    "Now let’s take a look at how this works."
   ]
  },
  {
   "cell_type": "markdown",
   "metadata": {},
   "source": [
    "## Example: Meetups"
   ]
  },
  {
   "cell_type": "markdown",
   "metadata": {},
   "source": [
    "To celebrate the grow of your social network start-up company, your VP of User Rewards wants to organize\n",
    "several in-person meetups for your hometown users, complete with beer, pizza, and t-shirts. You know the locations of all your local users \n",
    "and she’d like you to choose meetup locations that make it convenient for everyone to\n",
    "attend.\n",
    "\n",
    "![The locations of your hometown users](im/location.jpg)\n",
    "\n",
    "Depending on how you look at it, you probably see two or three clusters. (It’s easy to\n",
    "do visually because the data is only two-dimensional. With more dimensions, it\n",
    "would be a lot harder to eyeball.)\n",
    "\n",
    "Imagine first that she has enough budget for three meetups. You go to your computer\n",
    "and try this:"
   ]
  },
  {
   "cell_type": "code",
   "execution_count": 5,
   "metadata": {
    "scrolled": false
   },
   "outputs": [
    {
     "data": {
      "application/vnd.jupyter.widget-view+json": {
       "model_id": "60344653765b48a6bc5cc21c0014b84b",
       "version_major": 2,
       "version_minor": 0
      },
      "text/plain": [
       "0it [00:00, ?it/s]"
      ]
     },
     "metadata": {},
     "output_type": "display_data"
    }
   ],
   "source": [
    "inputs: List[List[float]] = [[-14,-5],[13,13],[20,23],[-19,-11],[-9,-16],[21,27],[-49,15],[26,13],[-46,5],[-34,-1],[11,15],[-49,0],[-22,-16],[19,28],[-12,-8],[-13,-19],[-41,8],[-11,-6],[-25,-9],[-18,-3]]\n",
    "\n",
    "random.seed(12)                   # so you get the same results as me\n",
    "clusterer = KMeans(k=3)\n",
    "clusterer.train(inputs)"
   ]
  },
  {
   "cell_type": "code",
   "execution_count": 6,
   "metadata": {
    "scrolled": false
   },
   "outputs": [
    {
     "name": "stdout",
     "output_type": "stream",
     "text": [
      "[array([-43.8,   5.4]), array([18.33333333, 19.83333333]), array([-15.88888889, -10.33333333])]\n"
     ]
    }
   ],
   "source": [
    "print(clusterer.means)"
   ]
  },
  {
   "cell_type": "markdown",
   "metadata": {},
   "source": [
    "You find three clusters centered at [–44, 5], [–16, –10], and [18, 20], and you look for\n",
    "meetup venues near those locations\n",
    "\n",
    "![User locations grouped into three clusters](im/3_clusters.jpg)\n",
    "\n",
    "You show your results to the VP, who informs you that now she only has enough\n",
    "budgeted for two meetups.\n",
    "\n",
    "“No problem,” you say:"
   ]
  },
  {
   "cell_type": "code",
   "execution_count": 7,
   "metadata": {
    "scrolled": false
   },
   "outputs": [
    {
     "data": {
      "application/vnd.jupyter.widget-view+json": {
       "model_id": "18afc991b1ca49709933f5d564abb3c4",
       "version_major": 2,
       "version_minor": 0
      },
      "text/plain": [
       "0it [00:00, ?it/s]"
      ]
     },
     "metadata": {},
     "output_type": "display_data"
    }
   ],
   "source": [
    "random.seed(0)\n",
    "clusterer = KMeans(k=2)\n",
    "clusterer.train(inputs)"
   ]
  },
  {
   "cell_type": "code",
   "execution_count": 8,
   "metadata": {
    "scrolled": false
   },
   "outputs": [
    {
     "name": "stdout",
     "output_type": "stream",
     "text": [
      "[array([18.33333333, 19.83333333]), array([-25.85714286,  -4.71428571])]\n"
     ]
    }
   ],
   "source": [
    "print(clusterer.means)"
   ]
  },
  {
   "cell_type": "markdown",
   "metadata": {},
   "source": [
    "So now one meetup should still be near [18, 20], but now the other\n",
    "should be near [–26, –5].\n",
    "\n",
    "![User locations grouped into two clusters](im/2_clusters.jpg)"
   ]
  },
  {
   "cell_type": "markdown",
   "metadata": {},
   "source": [
    "## Choosing k"
   ]
  },
  {
   "cell_type": "markdown",
   "metadata": {},
   "source": [
    "In the previous example, the choice of *k* was driven by factors outside of our control.\n",
    "In general, this won’t be the case. \n",
    "\n",
    "There are various ways to choose a *k*. One that’s\n",
    "reasonably easy to understand involves plotting the sum of distances/errors (between\n",
    "each point and the mean of its cluster) as a function of *k* and looking at where the\n",
    "graph “bends”:"
   ]
  },
  {
   "cell_type": "code",
   "execution_count": 9,
   "metadata": {
    "scrolled": false
   },
   "outputs": [],
   "source": [
    "def sum_clustering_errors(inputs: List[Vector], k: int) -> float:\n",
    "    \"\"\"finds the total error from k-means clustering the inputs\"\"\"\n",
    "    clusterer = KMeans(k)\n",
    "    clusterer.train(inputs)\n",
    "    means = clusterer.means\n",
    "    assignments = [clusterer.classify(input) for input in inputs]\n",
    "\n",
    "    return sum(distance.euclidean(input, means[cluster])\n",
    "               for input, cluster in zip(inputs, assignments))"
   ]
  },
  {
   "cell_type": "markdown",
   "metadata": {},
   "source": [
    "which we can apply to our previous example:"
   ]
  },
  {
   "cell_type": "code",
   "execution_count": 10,
   "metadata": {
    "scrolled": false
   },
   "outputs": [
    {
     "data": {
      "application/vnd.jupyter.widget-view+json": {
       "model_id": "583ce8c6e28044fd8c2835fc858b03c4",
       "version_major": 2,
       "version_minor": 0
      },
      "text/plain": [
       "0it [00:00, ?it/s]"
      ]
     },
     "metadata": {},
     "output_type": "display_data"
    },
    {
     "data": {
      "application/vnd.jupyter.widget-view+json": {
       "model_id": "99ba0ff6f2744e8485321ebd5127fbaa",
       "version_major": 2,
       "version_minor": 0
      },
      "text/plain": [
       "0it [00:00, ?it/s]"
      ]
     },
     "metadata": {},
     "output_type": "display_data"
    },
    {
     "data": {
      "application/vnd.jupyter.widget-view+json": {
       "model_id": "860f122e1013402da0d2b62a6aeae45a",
       "version_major": 2,
       "version_minor": 0
      },
      "text/plain": [
       "0it [00:00, ?it/s]"
      ]
     },
     "metadata": {},
     "output_type": "display_data"
    },
    {
     "data": {
      "application/vnd.jupyter.widget-view+json": {
       "model_id": "3b3a189a3fec499cbfdfe5816ffcb6fe",
       "version_major": 2,
       "version_minor": 0
      },
      "text/plain": [
       "0it [00:00, ?it/s]"
      ]
     },
     "metadata": {},
     "output_type": "display_data"
    },
    {
     "data": {
      "application/vnd.jupyter.widget-view+json": {
       "model_id": "d08e859725884548b33be4f9b4079937",
       "version_major": 2,
       "version_minor": 0
      },
      "text/plain": [
       "0it [00:00, ?it/s]"
      ]
     },
     "metadata": {},
     "output_type": "display_data"
    },
    {
     "data": {
      "application/vnd.jupyter.widget-view+json": {
       "model_id": "21913561dd5c426a8e0ba9b0123a5f93",
       "version_major": 2,
       "version_minor": 0
      },
      "text/plain": [
       "0it [00:00, ?it/s]"
      ]
     },
     "metadata": {},
     "output_type": "display_data"
    },
    {
     "data": {
      "application/vnd.jupyter.widget-view+json": {
       "model_id": "198c252fa1fa4731ad3ea25f7bb12b5f",
       "version_major": 2,
       "version_minor": 0
      },
      "text/plain": [
       "0it [00:00, ?it/s]"
      ]
     },
     "metadata": {},
     "output_type": "display_data"
    },
    {
     "data": {
      "application/vnd.jupyter.widget-view+json": {
       "model_id": "47b4910dd06e46a19a74939c1c3b5fe8",
       "version_major": 2,
       "version_minor": 0
      },
      "text/plain": [
       "0it [00:00, ?it/s]"
      ]
     },
     "metadata": {},
     "output_type": "display_data"
    },
    {
     "data": {
      "application/vnd.jupyter.widget-view+json": {
       "model_id": "614ea52943ba4e2bbfbbed87b3049737",
       "version_major": 2,
       "version_minor": 0
      },
      "text/plain": [
       "0it [00:00, ?it/s]"
      ]
     },
     "metadata": {},
     "output_type": "display_data"
    },
    {
     "data": {
      "application/vnd.jupyter.widget-view+json": {
       "model_id": "38c54eb28c784b128d9971caa56ec4a6",
       "version_major": 2,
       "version_minor": 0
      },
      "text/plain": [
       "0it [00:00, ?it/s]"
      ]
     },
     "metadata": {},
     "output_type": "display_data"
    },
    {
     "data": {
      "application/vnd.jupyter.widget-view+json": {
       "model_id": "82f60305a9e44c63b093920de904d563",
       "version_major": 2,
       "version_minor": 0
      },
      "text/plain": [
       "0it [00:00, ?it/s]"
      ]
     },
     "metadata": {},
     "output_type": "display_data"
    },
    {
     "data": {
      "application/vnd.jupyter.widget-view+json": {
       "model_id": "36edbc8757b44ffc9f66fa7a97d9b2f0",
       "version_major": 2,
       "version_minor": 0
      },
      "text/plain": [
       "0it [00:00, ?it/s]"
      ]
     },
     "metadata": {},
     "output_type": "display_data"
    },
    {
     "data": {
      "application/vnd.jupyter.widget-view+json": {
       "model_id": "0d17cac5bfbd4b839a09c0f8e2767f7c",
       "version_major": 2,
       "version_minor": 0
      },
      "text/plain": [
       "0it [00:00, ?it/s]"
      ]
     },
     "metadata": {},
     "output_type": "display_data"
    },
    {
     "data": {
      "application/vnd.jupyter.widget-view+json": {
       "model_id": "dc437195e5b74a6194311fdf951e0940",
       "version_major": 2,
       "version_minor": 0
      },
      "text/plain": [
       "0it [00:00, ?it/s]"
      ]
     },
     "metadata": {},
     "output_type": "display_data"
    },
    {
     "data": {
      "application/vnd.jupyter.widget-view+json": {
       "model_id": "5b95fab3753c4c70929a84db55465528",
       "version_major": 2,
       "version_minor": 0
      },
      "text/plain": [
       "0it [00:00, ?it/s]"
      ]
     },
     "metadata": {},
     "output_type": "display_data"
    },
    {
     "data": {
      "application/vnd.jupyter.widget-view+json": {
       "model_id": "929947323a1d4340947f50a4607d6008",
       "version_major": 2,
       "version_minor": 0
      },
      "text/plain": [
       "0it [00:00, ?it/s]"
      ]
     },
     "metadata": {},
     "output_type": "display_data"
    },
    {
     "data": {
      "application/vnd.jupyter.widget-view+json": {
       "model_id": "c90620b108d0423f9cb7fbd7f4cf0de4",
       "version_major": 2,
       "version_minor": 0
      },
      "text/plain": [
       "0it [00:00, ?it/s]"
      ]
     },
     "metadata": {},
     "output_type": "display_data"
    },
    {
     "data": {
      "application/vnd.jupyter.widget-view+json": {
       "model_id": "93f1f668bd6045eb812ce7e2685b675d",
       "version_major": 2,
       "version_minor": 0
      },
      "text/plain": [
       "0it [00:00, ?it/s]"
      ]
     },
     "metadata": {},
     "output_type": "display_data"
    },
    {
     "data": {
      "application/vnd.jupyter.widget-view+json": {
       "model_id": "498c4bd0986944ddb3391da118d3d7e6",
       "version_major": 2,
       "version_minor": 0
      },
      "text/plain": [
       "0it [00:00, ?it/s]"
      ]
     },
     "metadata": {},
     "output_type": "display_data"
    },
    {
     "data": {
      "application/vnd.jupyter.widget-view+json": {
       "model_id": "73c5a6d7d0084e299b1e44a0691e91e1",
       "version_major": 2,
       "version_minor": 0
      },
      "text/plain": [
       "0it [00:00, ?it/s]"
      ]
     },
     "metadata": {},
     "output_type": "display_data"
    },
    {
     "data": {
      "image/png": "[encoded data removed]",
      "text/plain": [
       "<Figure size 432x288 with 1 Axes>"
      ]
     },
     "metadata": {
      "needs_background": "light"
     },
     "output_type": "display_data"
    }
   ],
   "source": [
    "import matplotlib.pyplot as plt\n",
    "\n",
    "# now plot from 1 up to len(inputs) clusters\n",
    "\n",
    "ks = range(1, len(inputs) + 1)\n",
    "errors = [sum_clustering_errors(inputs, k) for k in ks]\n",
    "\n",
    "plt.plot(ks, errors)\n",
    "plt.xticks(ks)\n",
    "plt.xlabel(\"k\")\n",
    "plt.ylabel(\"total errors\")\n",
    "plt.title(\"Total Error vs. # of Clusters\")\n",
    "plt.show()"
   ]
  },
  {
   "cell_type": "markdown",
   "metadata": {},
   "source": [
    "Judging by the figure, this method agrees with our original eyeballing that three is\n",
    "the “right” number of clusters."
   ]
  },
  {
   "cell_type": "markdown",
   "metadata": {},
   "source": [
    "## Example: Clustering Colors"
   ]
  },
  {
   "cell_type": "markdown",
   "metadata": {},
   "source": [
    "The VP of Swag has designed attractive stickers that he’d like you to\n",
    "hand out at meetups. Unfortunately, your sticker printer can print at most five colors\n",
    "per sticker. And since the VP of Art is on sabbatical, the VP of Swag asks if there’s\n",
    "some way you can take his design and modify it so that it contains only five colors.\n",
    "\n",
    "Computer images can be represented as two-dimensional arrays of pixels, where each\n",
    "pixel is itself a three-dimensional vector `(red, green, blue)` indicating its color (note: sometimes there's a fourth dimension used to indicate the level of transparency, but we will not deal with it here).\n",
    "\n",
    "Creating a five-color version of the image, then, entails:\n",
    "1. Choosing five colors.\n",
    "2. Assigning one of those colors to each pixel.\n",
    "\n",
    "It turns out this is a great task for k-means clustering, which can partition the pixels\n",
    "into five clusters in red-green-blue space. If we then recolor the pixels in each cluster\n",
    "to the mean color, we’re done.\n",
    "\n",
    "To start with, we’ll need a way to load an image into Python. We can do this with matplotlib,\n",
    "if we first install the `pillow` library:"
   ]
  },
  {
   "cell_type": "code",
   "execution_count": 11,
   "metadata": {},
   "outputs": [
    {
     "name": "stdout",
     "output_type": "stream",
     "text": [
      "Requirement already satisfied: pillow in c:\\users\\mirit\\anaconda3\\lib\\site-packages (9.0.1)\n"
     ]
    }
   ],
   "source": [
    "# pillow is pre-installed with Anaconda, so only manually install it if you did not install anaconda \n",
    "!python -m pip install pillow"
   ]
  },
  {
   "cell_type": "markdown",
   "metadata": {},
   "source": [
    "Then we can just use `matplotlib.image.imread`:"
   ]
  },
  {
   "cell_type": "code",
   "execution_count": 12,
   "metadata": {},
   "outputs": [
    {
     "ename": "FileNotFoundError",
     "evalue": "[Errno 2] No such file or directory: 'im/Uga_X.jpg'",
     "output_type": "error",
     "traceback": [
      "\u001b[1;31m---------------------------------------------------------------------------\u001b[0m",
      "\u001b[1;31mFileNotFoundError\u001b[0m                         Traceback (most recent call last)",
      "\u001b[1;32mc:\\Users\\mirit\\Downloads\\15_Clustering.ipynb Cell 32\u001b[0m in \u001b[0;36m<cell line: 3>\u001b[1;34m()\u001b[0m\n\u001b[0;32m      <a href='vscode-notebook-cell:/c%3A/Users/mirit/Downloads/15_Clustering.ipynb#X43sZmlsZQ%3D%3D?line=0'>1</a>\u001b[0m image_path \u001b[39m=\u001b[39m \u001b[39m\"\u001b[39m\u001b[39mim/Uga_X.jpg\u001b[39m\u001b[39m\"\u001b[39m             \u001b[39m# or wherever your image is\u001b[39;00m\n\u001b[0;32m      <a href='vscode-notebook-cell:/c%3A/Users/mirit/Downloads/15_Clustering.ipynb#X43sZmlsZQ%3D%3D?line=1'>2</a>\u001b[0m \u001b[39mimport\u001b[39;00m \u001b[39mmatplotlib\u001b[39;00m\u001b[39m.\u001b[39;00m\u001b[39mimage\u001b[39;00m \u001b[39mas\u001b[39;00m \u001b[39mmpimg\u001b[39;00m\n\u001b[1;32m----> <a href='vscode-notebook-cell:/c%3A/Users/mirit/Downloads/15_Clustering.ipynb#X43sZmlsZQ%3D%3D?line=2'>3</a>\u001b[0m img \u001b[39m=\u001b[39m mpimg\u001b[39m.\u001b[39;49mimread(image_path) \u001b[39m/\u001b[39m \u001b[39m256\u001b[39m\n",
      "File \u001b[1;32mc:\\Users\\mirit\\anaconda3\\lib\\site-packages\\matplotlib\\image.py:1560\u001b[0m, in \u001b[0;36mimread\u001b[1;34m(fname, format)\u001b[0m\n\u001b[0;32m   1558\u001b[0m                 response \u001b[39m=\u001b[39m io\u001b[39m.\u001b[39mBytesIO(response\u001b[39m.\u001b[39mread())\n\u001b[0;32m   1559\u001b[0m             \u001b[39mreturn\u001b[39;00m imread(response, \u001b[39mformat\u001b[39m\u001b[39m=\u001b[39mext)\n\u001b[1;32m-> 1560\u001b[0m \u001b[39mwith\u001b[39;00m img_open(fname) \u001b[39mas\u001b[39;00m image:\n\u001b[0;32m   1561\u001b[0m     \u001b[39mreturn\u001b[39;00m (_pil_png_to_float_array(image)\n\u001b[0;32m   1562\u001b[0m             \u001b[39mif\u001b[39;00m \u001b[39misinstance\u001b[39m(image, PIL\u001b[39m.\u001b[39mPngImagePlugin\u001b[39m.\u001b[39mPngImageFile) \u001b[39melse\u001b[39;00m\n\u001b[0;32m   1563\u001b[0m             pil_to_array(image))\n",
      "File \u001b[1;32mc:\\Users\\mirit\\anaconda3\\lib\\site-packages\\PIL\\Image.py:2953\u001b[0m, in \u001b[0;36mopen\u001b[1;34m(fp, mode, formats)\u001b[0m\n\u001b[0;32m   2950\u001b[0m     filename \u001b[39m=\u001b[39m fp\n\u001b[0;32m   2952\u001b[0m \u001b[39mif\u001b[39;00m filename:\n\u001b[1;32m-> 2953\u001b[0m     fp \u001b[39m=\u001b[39m builtins\u001b[39m.\u001b[39;49mopen(filename, \u001b[39m\"\u001b[39;49m\u001b[39mrb\u001b[39;49m\u001b[39m\"\u001b[39;49m)\n\u001b[0;32m   2954\u001b[0m     exclusive_fp \u001b[39m=\u001b[39m \u001b[39mTrue\u001b[39;00m\n\u001b[0;32m   2956\u001b[0m \u001b[39mtry\u001b[39;00m:\n",
      "\u001b[1;31mFileNotFoundError\u001b[0m: [Errno 2] No such file or directory: 'im/Uga_X.jpg'"
     ]
    }
   ],
   "source": [
    "image_path = \"im/Uga_X.jpg\"             # or wherever your image is\n",
    "import matplotlib.image as mpimg\n",
    "img = mpimg.imread(image_path) / 256    # rescale to between 0 and 1"
   ]
  },
  {
   "cell_type": "markdown",
   "metadata": {},
   "source": [
    "The image we just loaded is one of Uga X. Of course, you could try other images as well.\n",
    "\n",
    "![Uga_X](im/Uga_X.jpg)"
   ]
  },
  {
   "cell_type": "markdown",
   "metadata": {},
   "source": [
    "Behind the scenes `img` is a NumPy array, but for our purposes, we can treat it as a 3-dimensional list."
   ]
  },
  {
   "cell_type": "code",
   "execution_count": null,
   "metadata": {},
   "outputs": [],
   "source": [
    "print(type(img))\n",
    "print(img.shape)"
   ]
  },
  {
   "cell_type": "markdown",
   "metadata": {},
   "source": [
    "`img[i][j]` is the pixel in the *i*th row and *j*th column, and each pixel is a list `[red, green, blue]` of numbers between 0 and 1 indicating the color of that pixel:"
   ]
  },
  {
   "cell_type": "code",
   "execution_count": null,
   "metadata": {
    "scrolled": true
   },
   "outputs": [],
   "source": [
    "top_row = img[0]\n",
    "top_left_pixel = top_row[0]\n",
    "red, green, blue = top_left_pixel\n",
    "\n",
    "print(f\"top row =\\n{top_row}\\n\")\n",
    "print(f\"top_left_pixel = {top_left_pixel}\")\n",
    "print(f\"red, green, blue = {red}, {green}, {blue}\")"
   ]
  },
  {
   "cell_type": "markdown",
   "metadata": {},
   "source": [
    "In particular, we can get a flattened list of all the pixels as:"
   ]
  },
  {
   "cell_type": "code",
   "execution_count": null,
   "metadata": {},
   "outputs": [],
   "source": [
    "# .tolist() converts a numpy array to a Python list\n",
    "pixels = [pixel.tolist() for row in img for pixel in row]\n",
    "\n",
    "print(type(pixels))\n",
    "print(len(pixels)) # 55000 = 275 * 200\n",
    "print(pixels[0])"
   ]
  },
  {
   "cell_type": "markdown",
   "metadata": {},
   "source": [
    "and then feed them to our clusterer:"
   ]
  },
  {
   "cell_type": "code",
   "execution_count": null,
   "metadata": {},
   "outputs": [],
   "source": [
    "clusterer = KMeans(5)\n",
    "clusterer.train(pixels)   # this might take a while"
   ]
  },
  {
   "cell_type": "markdown",
   "metadata": {},
   "source": [
    "Once it finishes, we just construct a new image with the same format:"
   ]
  },
  {
   "cell_type": "code",
   "execution_count": null,
   "metadata": {},
   "outputs": [],
   "source": [
    "def recolor(pixel: Vector) -> Vector:\n",
    "    cluster = clusterer.classify(pixel)        # index of the closest cluster\n",
    "    return clusterer.means[cluster]            # mean of the closest cluster"
   ]
  },
  {
   "cell_type": "code",
   "execution_count": null,
   "metadata": {},
   "outputs": [],
   "source": [
    "new_img = [[recolor(pixel) for pixel in row]   # recolor this row of pixels\n",
    "           for row in img]                     # for each row in the image"
   ]
  },
  {
   "cell_type": "markdown",
   "metadata": {},
   "source": [
    "and display it, using `plt.imshow`:"
   ]
  },
  {
   "cell_type": "code",
   "execution_count": null,
   "metadata": {},
   "outputs": [],
   "source": [
    "plt.rcParams['figure.figsize'] = (5, 5)\n",
    "\n",
    "plt.imshow(new_img)\n",
    "plt.axis('off')\n",
    "plt.show()"
   ]
  },
  {
   "cell_type": "markdown",
   "metadata": {},
   "source": [
    "## K-Means in scikit-learn"
   ]
  },
  {
   "cell_type": "code",
   "execution_count": null,
   "metadata": {},
   "outputs": [],
   "source": [
    "# adapted from https://machinelearningmastery.com/clustering-algorithms-with-python/\n",
    "\n",
    "# k-means clustering\n",
    "from numpy import unique\n",
    "from numpy import where\n",
    "from sklearn.datasets import make_classification\n",
    "from sklearn.cluster import KMeans\n",
    "import matplotlib.pyplot as plt\n",
    "import pandas as pd\n",
    "\n",
    "# generate an artificial dataset using numpy and then convert it to a dataframe\n",
    "# when dealing with real datasets, you probably want to load the data via pd.read_csv() directly to obtain the dataframe\n",
    "X, _ = make_classification(n_samples=1000, n_features=2, n_informative=2, n_redundant=0, n_clusters_per_class=1, random_state=4)\n",
    "X = pd.DataFrame(X, columns = [\"column 0\", \"column 1\"])\n",
    "\n",
    "print(f\"X = {X}\")\n",
    "\n",
    "# define the model\n",
    "model = KMeans(n_clusters=2)\n",
    "\n",
    "# fit the model\n",
    "model.fit(X)\n",
    "\n",
    "# assign a cluster to each example\n",
    "yhat = model.predict(X)\n",
    "\n",
    "print(f\"yhat = {yhat}\")\n",
    "\n",
    "# retrieve unique clusters\n",
    "clusters = unique(yhat)\n",
    "print(f\"clusters = {clusters}\")\n",
    "\n",
    "# create scatter plot for samples from each cluster\n",
    "for cluster in clusters:\n",
    "    # get sample rows that match the current cluster\n",
    "    Xi = X[model.labels_ == cluster]\n",
    "    \n",
    "    print(f\"Xi = {Xi}\")\n",
    "    \n",
    "    # create scatter of these samples\n",
    "    plt.scatter(Xi[\"column 0\"], Xi[\"column 1\"])\n",
    "    \n",
    "# show the plot\n",
    "plt.show()"
   ]
  },
  {
   "cell_type": "markdown",
   "metadata": {},
   "source": [
    "You can learn more about other types of clustering in:\n",
    "\n",
    "https://scikit-learn.org/stable/modules/clustering.html\n",
    "\n",
    "https://machinelearningmastery.com/clustering-algorithms-with-python/\n"
   ]
  }
 ],
 "metadata": {
  "kernelspec": {
   "display_name": "Python 3.9.12 ('base')",
   "language": "python",
   "name": "python3"
  },
  "language_info": {
   "codemirror_mode": {
    "name": "ipython",
    "version": 3
   },
   "file_extension": ".py",
   "mimetype": "text/x-python",
   "name": "python",
   "nbconvert_exporter": "python",
   "pygments_lexer": "ipython3",
   "version": "3.9.12"
  },
  "vscode": {
   "interpreter": {
    "hash": "ecb87565588fd8405c5fa4f248475278bcc137db701d43c05425b9ff86bdf013"
   }
  }
 },
 "nbformat": 4,
 "nbformat_minor": 4
}
